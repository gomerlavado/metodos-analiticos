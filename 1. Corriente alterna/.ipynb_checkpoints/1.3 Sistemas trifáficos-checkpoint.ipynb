{
 "cells": [
  {
   "cell_type": "markdown",
   "id": "22933c61",
   "metadata": {},
   "source": [
    "# 1.3 Sistemas trifásicos"
   ]
  },
  {
   "cell_type": "markdown",
   "id": "355330e5",
   "metadata": {},
   "source": [
    "## 1.3.1 Leyes de Kirchhoff\n",
    "**Ley de corrientes de Kirchhoff:** En estado estacionario, la corriente de electrones que entra en el nodo de un circuito es igual a la corriente de electrones que sale de ese nodo.\n",
    "$$\n",
    "\\sum I = 0\n",
    "$$\n",
    "\n",
    "**Ley de tensiones de Kirchhoff:** La suma de las caídas de tensiones alrededor de un circuito cerrado es igual a la suma de los aumentos de tensión del circuito.\n",
    "$$\n",
    "\\sum \\Delta V = 0\n",
    "$$"
   ]
  },
  {
   "cell_type": "markdown",
   "id": "dfd51e86",
   "metadata": {},
   "source": [
    "## 1.3.2 Circuitos estrella estrella\n",
    "Un circuito trifásico está balanceado si las impedancias son iguales y los fasores de las fuentes de tensión difieren solo en sus ángulos, con una diferencia de 120° entre cada par."
   ]
  },
  {
   "cell_type": "markdown",
   "id": "a88e6f77",
   "metadata": {},
   "source": [
    "<img src=\"estrella-estrella.png\" width=500px align=\"left\">"
   ]
  },
  {
   "cell_type": "markdown",
   "id": "c9a284e9",
   "metadata": {},
   "source": [
    "Usando la admitancia $Y=1/Z$, tenemos:\n",
    "$$\n",
    "I_a = Y_a(E_a - V_{n n'}) \\\\\n",
    "I_b = Y_b(E_b - V_{n n'}) \\\\\n",
    "I_c = Y_c(E_c - V_{n n'}) \\\\\n",
    "I_{n n'} = - Y_n V_{n n'}\n",
    "$$\n",
    "Aplicando la ley de las corrientes de Kircchoff:\n",
    "$$\n",
    "0 = Y_a E_a - Y_a V_{n n'} + Y_b E_b - Y_b V_{n n'} + Y_c E_c - Y_c V_{n n'} - Y_n V_{n n'} \\\\\n",
    "V_{n n'} = \\frac{Y_a E_a + Y_b E_b + Y_c E_c}{Y_a + Y_b + Y_c + Y_n}\n",
    "$$"
   ]
  },
  {
   "cell_type": "code",
   "execution_count": 1,
   "id": "6aac91dc",
   "metadata": {},
   "outputs": [],
   "source": [
    "import math\n",
    "import cmath\n",
    "import matplotlib.pyplot as plt\n",
    "import numpy as np"
   ]
  },
  {
   "cell_type": "code",
   "execution_count": 2,
   "id": "b2fa656d",
   "metadata": {},
   "outputs": [],
   "source": [
    "Z_a = Z_b = complex(0,1)\n",
    "Z_c = complex(0,0.9)\n",
    "# Z_c = complex(0,1)\n",
    "Z_l = complex(0,0.1)"
   ]
  },
  {
   "cell_type": "code",
   "execution_count": 3,
   "id": "c9133b79",
   "metadata": {},
   "outputs": [],
   "source": [
    "E_a = complex(1,0)\n",
    "E_b = complex(math.cos(math.radians(-120)), math.sin(math.radians(-120)))\n",
    "E_c = complex(math.cos(math.radians(120)), math.sin(math.radians(120)))"
   ]
  },
  {
   "cell_type": "code",
   "execution_count": 4,
   "id": "aff825e1",
   "metadata": {},
   "outputs": [],
   "source": [
    "Y_a = 1/(Z_l+Z_a)\n",
    "Y_b = 1/(Z_l+Z_b)\n",
    "Y_c = 1/(Z_l+Z_c)\n",
    "Y_n = 1/Z_l"
   ]
  },
  {
   "cell_type": "code",
   "execution_count": 5,
   "id": "18f7243d",
   "metadata": {},
   "outputs": [],
   "source": [
    "V_n = (Y_a*E_a + Y_b*E_b + Y_c*E_c) / (Y_a + Y_b + Y_c + Y_n)"
   ]
  },
  {
   "cell_type": "code",
   "execution_count": 6,
   "id": "95e803a8",
   "metadata": {},
   "outputs": [
    {
     "name": "stdout",
     "output_type": "stream",
     "text": [
      "La tensión por el neutro es: (0.007092198581560267, 2.0943951023931913)\n"
     ]
    }
   ],
   "source": [
    "print(f\"La tensión por el neutro es: {cmath.polar(V_n)}\")"
   ]
  },
  {
   "cell_type": "code",
   "execution_count": 7,
   "id": "ac1a2268",
   "metadata": {},
   "outputs": [],
   "source": [
    "I_a = Y_a*(E_a-V_n)\n",
    "I_b = Y_b*(E_b-V_n)\n",
    "I_c = Y_c*(E_c-V_n)"
   ]
  },
  {
   "cell_type": "code",
   "execution_count": 8,
   "id": "da92c08a",
   "metadata": {},
   "outputs": [
    {
     "name": "stdout",
     "output_type": "stream",
     "text": [
      "(0.9123317224491367, -1.576916571252421) (0.9123317224491367, 2.624114122449019) (0.9929078014184397, 0.5235987755982987)\n"
     ]
    }
   ],
   "source": [
    "print(cmath.polar(I_a), cmath.polar(I_b), cmath.polar(I_c))"
   ]
  },
  {
   "cell_type": "code",
   "execution_count": 9,
   "id": "13a7113d",
   "metadata": {},
   "outputs": [
    {
     "name": "stdout",
     "output_type": "stream",
     "text": [
      "I_a: -90.35066417700448\n",
      "I_b: 150.3506641770045\n",
      "I_c: 29.999999999999993\n"
     ]
    }
   ],
   "source": [
    "print(f\"I_a: {math.degrees(cmath.polar(I_a)[1])}\")\n",
    "print(f\"I_b: {math.degrees(cmath.polar(I_b)[1])}\")\n",
    "print(f\"I_c: {math.degrees(cmath.polar(I_c)[1])}\")"
   ]
  },
  {
   "cell_type": "code",
   "execution_count": 10,
   "id": "4ea619c0",
   "metadata": {},
   "outputs": [
    {
     "data": {
      "image/png": "[encoded data removed]",
      "text/plain": [
       "<Figure size 360x360 with 1 Axes>"
      ]
     },
     "metadata": {
      "needs_background": "light"
     },
     "output_type": "display_data"
    }
   ],
   "source": [
    "x0 = [0, 0, 0]\n",
    "y0 = [0, 0, 0]\n",
    "x1 = [I_a.real, I_b.real, I_c.real]\n",
    "y1 = [I_a.imag, I_b.imag, I_c.imag]\n",
    "\n",
    "fig, ax = plt.subplots(figsize = (5, 5))\n",
    "q = ax.quiver(x0, y0, x1, y1,\n",
    "              color=[\"tab:blue\",\"tab:orange\",\"tab:green\"],\n",
    "              scale = 3)\n",
    "\n",
    "ax.quiverkey(q, X=0.2, Y=0.95, U=0.5, label=\"Ia\", color=\"tab:blue\",labelpos=\"E\")\n",
    "ax.quiverkey(q, X=0.2, Y=0.9, U=0.5, label=\"Ib\", color=\"tab:orange\",labelpos=\"E\")\n",
    "ax.quiverkey(q, X=0.2, Y=0.85, U=0.5, label=\"Ic\", color=\"tab:green\",labelpos=\"E\")\n",
    "\n",
    "ax.axis([-1, 1, -1, 1])\n",
    "plt.show()"
   ]
  },
  {
   "cell_type": "code",
   "execution_count": null,
   "id": "0044b3cf",
   "metadata": {},
   "outputs": [],
   "source": []
  },
  {
   "cell_type": "markdown",
   "id": "119a548b",
   "metadata": {},
   "source": [
    "## 1.3.3 Circuitos estrella delta"
   ]
  },
  {
   "cell_type": "markdown",
   "id": "003f45a4",
   "metadata": {},
   "source": [
    "<img src=\"estrella-delta.png\" width=500px align=\"left\">"
   ]
  },
  {
   "cell_type": "markdown",
   "id": "cbbf6258",
   "metadata": {},
   "source": [
    "Dado una configuración delta con una impedancia $Z_\\Delta$, una configuración estrella con una impedancia $Z_Y=Z_\\Delta/3$ tiene el mismo comportamiento en los terminales. Dado que el circuito está balanceado y no hay inductancia mutua entre las fases, podemos usar un análisis por fases."
   ]
  },
  {
   "cell_type": "markdown",
   "id": "758ab7a9",
   "metadata": {},
   "source": [
    "<img src=\"estrella-delta2.png\" width=300px align=\"left\">"
   ]
  },
  {
   "cell_type": "code",
   "execution_count": 11,
   "id": "4254a2b3",
   "metadata": {},
   "outputs": [],
   "source": [
    "E_a = complex(1,0)\n",
    "E_b = complex(math.cos(math.radians(-120)), math.sin(math.radians(-120)))\n",
    "E_c = complex(math.cos(math.radians(120)), math.sin(math.radians(120)))"
   ]
  },
  {
   "cell_type": "code",
   "execution_count": 12,
   "id": "bf117e4e",
   "metadata": {},
   "outputs": [],
   "source": [
    "Z = 0.1j - 2j/3"
   ]
  },
  {
   "cell_type": "code",
   "execution_count": 13,
   "id": "daf4f09b",
   "metadata": {},
   "outputs": [
    {
     "name": "stdout",
     "output_type": "stream",
     "text": [
      "La corriente de línea es: (1.7647058823529411, 1.5707963267948966)\n"
     ]
    }
   ],
   "source": [
    "I_l = E_a/Z\n",
    "print(f\"La corriente de línea es: {cmath.polar(I_l)}\")"
   ]
  },
  {
   "cell_type": "markdown",
   "id": "107a3a9e",
   "metadata": {},
   "source": [
    "Para determinar la corriente por el delta, usamos la ley de tensiones de Kirchhoff:\n",
    "$$\n",
    "V_{ab} = V_{an} - V_{bn} \\\\\n",
    "V_{ab} = V_{an} - V_{an} e^{-j2\\pi/3} \\\\\n",
    "V_{ab} = \\sqrt{3} e^{j\\pi/6} V_{an} \\\\\n",
    "V_{ab} = \\sqrt{3} V_{an} \\angle 30°\n",
    "$$"
   ]
  },
  {
   "cell_type": "code",
   "execution_count": 14,
   "id": "d9ecaf1a",
   "metadata": {},
   "outputs": [],
   "source": [
    "V_ab = math.sqrt(3)*E_a*complex(math.cos(math.radians(30)), math.sin(math.radians(30)))"
   ]
  },
  {
   "cell_type": "code",
   "execution_count": 15,
   "id": "5a491628",
   "metadata": {},
   "outputs": [],
   "source": [
    "I_ab = V_ab/(-2j)"
   ]
  },
  {
   "cell_type": "code",
   "execution_count": 16,
   "id": "f224f4ba",
   "metadata": {},
   "outputs": [
    {
     "name": "stdout",
     "output_type": "stream",
     "text": [
      "La corriente por el delta es: (0.8660254037844386, 2.0943951023931953)\n"
     ]
    }
   ],
   "source": [
    "print(f\"La corriente por el delta es: {cmath.polar(I_ab)}\")"
   ]
  },
  {
   "cell_type": "code",
   "execution_count": 17,
   "id": "a62e88e9",
   "metadata": {},
   "outputs": [],
   "source": [
    "V_bc = math.sqrt(3)*E_b*complex(math.cos(math.radians(30)), math.sin(math.radians(30)))\n",
    "V_ca = math.sqrt(3)*E_c*complex(math.cos(math.radians(30)), math.sin(math.radians(30)))"
   ]
  },
  {
   "cell_type": "code",
   "execution_count": 18,
   "id": "8454d871",
   "metadata": {},
   "outputs": [
    {
     "data": {
      "image/png": "[encoded data removed]",
      "text/plain": [
       "<Figure size 360x360 with 1 Axes>"
      ]
     },
     "metadata": {
      "needs_background": "light"
     },
     "output_type": "display_data"
    }
   ],
   "source": [
    "x0 = [0, 0, 0, 0, 0, 0]\n",
    "y0 = [0, 0, 0, 0, 0, 0]\n",
    "x1 = [E_a.real, E_b.real, E_c.real, V_ab.real, V_bc.real, V_ca.real]\n",
    "y1 = [E_a.imag, E_b.imag, E_c.imag, V_ab.imag, V_bc.imag, V_ca.imag]\n",
    "\n",
    "fig, ax = plt.subplots(figsize = (5, 5))\n",
    "q = ax.quiver(x0, y0, x1, y1,\n",
    "              color=[\"tab:blue\",\"tab:orange\",\"tab:green\",\"tab:red\",\"tab:purple\",\"tab:brown\"],\n",
    "              scale = 4)\n",
    "\n",
    "ax.quiverkey(q, X=0.15, Y=0.95, U=0.5, label=\"Ea\", color=\"tab:blue\",labelpos=\"E\")\n",
    "ax.quiverkey(q, X=0.15, Y=0.9, U=0.5, label=\"Vab\", color=\"tab:red\",labelpos=\"E\")\n",
    "\n",
    "ax.axis([-1, 1, -1, 1])\n",
    "plt.show()"
   ]
  },
  {
   "cell_type": "code",
   "execution_count": null,
   "id": "4cbcaca4",
   "metadata": {},
   "outputs": [],
   "source": []
  }
 ],
 "metadata": {
  "kernelspec": {
   "display_name": "Python 3 (ipykernel)",
   "language": "python",
   "name": "python3"
  },
  "language_info": {
   "codemirror_mode": {
    "name": "ipython",
    "version": 3
   },
   "file_extension": ".py",
   "mimetype": "text/x-python",
   "name": "python",
   "nbconvert_exporter": "python",
   "pygments_lexer": "ipython3",
   "version": "3.9.12"
  }
 },
 "nbformat": 4,
 "nbformat_minor": 5
}
