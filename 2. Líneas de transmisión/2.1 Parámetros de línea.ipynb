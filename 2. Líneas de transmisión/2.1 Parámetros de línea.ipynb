{
 "cells": [
  {
   "cell_type": "markdown",
   "id": "1fc2098f",
   "metadata": {},
   "source": [
    "# 2.1 Parámetros de línea\n",
    "Los parámetros distribuidos de una línea de transmisión son la resistencia, la inductancia y la capacitancia. Se requiere expresar estos parámetros en función de la geometría y el material del conductor."
   ]
  },
  {
   "cell_type": "markdown",
   "id": "85f795e6",
   "metadata": {},
   "source": [
    "## 2.1.1 Resistencia\n"
   ]
  },
  {
   "cell_type": "code",
   "execution_count": null,
   "id": "97d3c487",
   "metadata": {},
   "outputs": [],
   "source": []
  },
  {
   "cell_type": "markdown",
   "id": "d038c417",
   "metadata": {},
   "source": [
    "## 2.1.2 Inductancia\n",
    "La inductancia está relacionada con el campo magnético causado por el movimiento de cargas. Supongamos que un conductor de radio $r_c$ transporta una corriente $I$ que se\n",
    "distribuye de manera uniforme a través de la sección transversal del conductor como se muestra en la figura. Entonces el flujo concatenado por metro del conductor en la curva 1 es:\n",
    "$$\n",
    "\\lambda_1 = \\frac{\\mu_0 I}{2\\pi} \\ln \\frac{r_1}{r_c}\n",
    "$$\n",
    "Donde $r_1$ es la distancia al punto 1. Por otro lado, el flujo concatenado por metro del conductor en la curva 2 es:\n",
    "$$\n",
    "\\lambda_2 = \\frac{\\mu_0 \\mu_r I}{8\\pi}\n",
    "$$\n",
    "Donde $\\mu_r$ es la permeabilidad magnética relativa del material del conductor.\n",
    "\n",
    "<img src=\"conductor.png\" width=400px align=\"left\">"
   ]
  },
  {
   "cell_type": "markdown",
   "id": "d77c4b69",
   "metadata": {},
   "source": [
    "La transposición de líneas es un método para conservar la símetria de la inductancia mutua entre los conductores de un circuito. En la figura de abajo, las fases $a$, $b$ y $c$ están coloreadas con rojo, verde y azul. Los conductores son de aluminio con un radio de 5 cm. Asumamos que la distancia entre las aisladores es igual. La inductancia promedio en cualquiera de las fases se expresa como:\n",
    "$$\n",
    "l = \\frac{\\lambda}{I} = \\frac{\\mu_0}{2\\pi} \\ln \\frac{D_m}{r'}\n",
    "$$\n",
    "\n",
    "Donde $D_m = \\sqrt[3]{d_{12}d_{23}d_{13}}$ y $r' = r_c e^{-\\mu_r/4}$. Aumentaremos la distancia entre los aisladores desde 5 m hasta 8 m.\n",
    "\n",
    "<img src=\"transposición.png\" width=400px align=\"left\">"
   ]
  },
  {
   "cell_type": "code",
   "execution_count": 68,
   "id": "c7ef6068",
   "metadata": {},
   "outputs": [],
   "source": [
    "import math\n",
    "import numpy as np\n",
    "from matplotlib import pyplot as plt "
   ]
  },
  {
   "cell_type": "code",
   "execution_count": 69,
   "id": "e46e5e8d",
   "metadata": {},
   "outputs": [],
   "source": [
    "mu0 = 2*10**(-7)\n",
    "mur = 1\n",
    "rc = 0.05\n",
    "r = rc * math.exp(-mur/4)"
   ]
  },
  {
   "cell_type": "code",
   "execution_count": 70,
   "id": "7476fa6a",
   "metadata": {},
   "outputs": [],
   "source": [
    "def f(d):\n",
    "    return (mu0/2*math.pi)*math.log(2**(1/3)*d/r)"
   ]
  },
  {
   "cell_type": "code",
   "execution_count": 71,
   "id": "17908a4f",
   "metadata": {},
   "outputs": [],
   "source": [
    "d = np.array([5, 5.5, 6, 6.5, 7.5, 8])\n",
    "l = np.array(list(map(f, d)))"
   ]
  },
  {
   "cell_type": "code",
   "execution_count": 72,
   "id": "419728a6",
   "metadata": {},
   "outputs": [
    {
     "data": {
      "image/png": "[encoded data removed]",
      "text/plain": [
       "<Figure size 432x288 with 1 Axes>"
      ]
     },
     "metadata": {
      "needs_background": "light"
     },
     "output_type": "display_data"
    }
   ],
   "source": [
    "plt.plot(d,l) \n",
    "plt.show()"
   ]
  },
  {
   "cell_type": "markdown",
   "id": "a33f23a5",
   "metadata": {},
   "source": [
    "## 2.1.3 Capacitancia"
   ]
  },
  {
   "cell_type": "markdown",
   "id": "581640f6",
   "metadata": {},
   "source": [
    "La capacitancia está relacionada con el campo eléctrico causado por las cargas superficiales alrededor del conductor. Supongamos que el conductor es infinito, entonces la componente radial del campo eléctrico será la misma a lo largo del conductor:\n",
    "\n",
    "\n",
    "<img src=\"conductor2.png\" width=300px align=\"left\">"
   ]
  },
  {
   "cell_type": "code",
   "execution_count": null,
   "id": "2aa4b34d",
   "metadata": {},
   "outputs": [],
   "source": []
  },
  {
   "cell_type": "code",
   "execution_count": null,
   "id": "bbfbc21e",
   "metadata": {},
   "outputs": [],
   "source": []
  }
 ],
 "metadata": {
  "kernelspec": {
   "display_name": "Python 3 (ipykernel)",
   "language": "python",
   "name": "python3"
  },
  "language_info": {
   "codemirror_mode": {
    "name": "ipython",
    "version": 3
   },
   "file_extension": ".py",
   "mimetype": "text/x-python",
   "name": "python",
   "nbconvert_exporter": "python",
   "pygments_lexer": "ipython3",
   "version": "3.9.12"
  }
 },
 "nbformat": 4,
 "nbformat_minor": 5
}
